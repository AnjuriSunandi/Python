{
 "cells": [
  {
   "cell_type": "markdown",
   "id": "ed5811c0",
   "metadata": {},
   "source": [
    "# LIST"
   ]
  },
  {
   "cell_type": "code",
   "execution_count": 52,
   "id": "049b9a34",
   "metadata": {},
   "outputs": [],
   "source": [
    "list1 = [1,2,3,4,5]\n",
    "list2 = [6,7,8,9,10]"
   ]
  },
  {
   "cell_type": "markdown",
   "id": "6bcf9477",
   "metadata": {},
   "source": [
    "### append() : \tAdds an element at the end of the list"
   ]
  },
  {
   "cell_type": "code",
   "execution_count": 53,
   "id": "527394c8",
   "metadata": {},
   "outputs": [
    {
     "data": {
      "text/plain": [
       "[1, 2, 3, 4, 5, [6, 7, 8, 9, 10]]"
      ]
     },
     "execution_count": 53,
     "metadata": {},
     "output_type": "execute_result"
    }
   ],
   "source": [
    "list1.append(list2)\n",
    "list1"
   ]
  },
  {
   "cell_type": "markdown",
   "id": "48543114",
   "metadata": {},
   "source": [
    "### extend() : Add the elements of a list (or any iterable), to the end of the current list"
   ]
  },
  {
   "cell_type": "code",
   "execution_count": 54,
   "id": "9a527ea8",
   "metadata": {},
   "outputs": [
    {
     "data": {
      "text/plain": [
       "[1, 2, 3, 4, 5, [6, 7, 8, 9, 10], 6, 7, 8, 9, 10]"
      ]
     },
     "execution_count": 54,
     "metadata": {},
     "output_type": "execute_result"
    }
   ],
   "source": [
    "list1.extend(list2)\n",
    "list1"
   ]
  },
  {
   "cell_type": "markdown",
   "id": "d7ba501d",
   "metadata": {},
   "source": [
    "### clear() : Removes all the elements from the list"
   ]
  },
  {
   "cell_type": "code",
   "execution_count": 55,
   "id": "c6b5179c",
   "metadata": {},
   "outputs": [
    {
     "data": {
      "text/plain": [
       "[]"
      ]
     },
     "execution_count": 55,
     "metadata": {},
     "output_type": "execute_result"
    }
   ],
   "source": [
    "list2.clear()\n",
    "list2"
   ]
  },
  {
   "cell_type": "markdown",
   "id": "3b170701",
   "metadata": {},
   "source": [
    "### copy() : Returns a copy of the list"
   ]
  },
  {
   "cell_type": "code",
   "execution_count": 56,
   "id": "6777ea0f",
   "metadata": {},
   "outputs": [
    {
     "data": {
      "text/plain": [
       "[1, 2, 3, 4, 5, [], 6, 7, 8, 9, 10]"
      ]
     },
     "execution_count": 56,
     "metadata": {},
     "output_type": "execute_result"
    }
   ],
   "source": [
    "list2 = list1.copy()\n",
    "list2"
   ]
  },
  {
   "cell_type": "markdown",
   "id": "c0c07afe",
   "metadata": {},
   "source": [
    "### count() : Returns the number of elements with the specified value"
   ]
  },
  {
   "cell_type": "code",
   "execution_count": 57,
   "id": "0443a5f1",
   "metadata": {},
   "outputs": [
    {
     "data": {
      "text/plain": [
       "1"
      ]
     },
     "execution_count": 57,
     "metadata": {},
     "output_type": "execute_result"
    }
   ],
   "source": [
    "list1.count(1)"
   ]
  },
  {
   "cell_type": "markdown",
   "id": "e6cbca02",
   "metadata": {},
   "source": [
    "### index() : Returns the index of the first element with the specified value"
   ]
  },
  {
   "cell_type": "code",
   "execution_count": 58,
   "id": "5b1e08fa",
   "metadata": {},
   "outputs": [
    {
     "data": {
      "text/plain": [
       "10"
      ]
     },
     "execution_count": 58,
     "metadata": {},
     "output_type": "execute_result"
    }
   ],
   "source": [
    "list1.index(10)"
   ]
  },
  {
   "cell_type": "markdown",
   "id": "68b6c86a",
   "metadata": {},
   "source": [
    "### insert() : Adds an element at the specified position"
   ]
  },
  {
   "cell_type": "code",
   "execution_count": 59,
   "id": "0531de24",
   "metadata": {},
   "outputs": [
    {
     "data": {
      "text/plain": [
       "[1, 2, 3, 4, 5, 0, [], 6, 7, 8, 9, 10]"
      ]
     },
     "execution_count": 59,
     "metadata": {},
     "output_type": "execute_result"
    }
   ],
   "source": [
    "#insert(index,value)\n",
    "list1.insert(5,0)\n",
    "list1"
   ]
  },
  {
   "cell_type": "markdown",
   "id": "7caf3e64",
   "metadata": {},
   "source": [
    "### pop() : Removes the element at the specified position"
   ]
  },
  {
   "cell_type": "code",
   "execution_count": 60,
   "id": "b62bd439",
   "metadata": {},
   "outputs": [
    {
     "data": {
      "text/plain": [
       "10"
      ]
     },
     "execution_count": 60,
     "metadata": {},
     "output_type": "execute_result"
    }
   ],
   "source": [
    "#by default removes and returns last element\n",
    "list1.pop()"
   ]
  },
  {
   "cell_type": "code",
   "execution_count": 61,
   "id": "ae814b47",
   "metadata": {},
   "outputs": [
    {
     "data": {
      "text/plain": [
       "[]"
      ]
     },
     "execution_count": 61,
     "metadata": {},
     "output_type": "execute_result"
    }
   ],
   "source": [
    "#pop(index)\n",
    "list1.pop(6)"
   ]
  },
  {
   "cell_type": "markdown",
   "id": "f71beb81",
   "metadata": {},
   "source": [
    "### remove() : Removes the first item with the specified value"
   ]
  },
  {
   "cell_type": "code",
   "execution_count": 62,
   "id": "a74287c3",
   "metadata": {},
   "outputs": [
    {
     "data": {
      "text/plain": [
       "[1, 2, 3, 4, 5, 6, 7, 8, 9]"
      ]
     },
     "execution_count": 62,
     "metadata": {},
     "output_type": "execute_result"
    }
   ],
   "source": [
    "#remove(value)\n",
    "list1.remove(0)\n",
    "list1"
   ]
  },
  {
   "cell_type": "markdown",
   "id": "ae5187a4",
   "metadata": {},
   "source": [
    "### reverse() : Reverses the order of the list"
   ]
  },
  {
   "cell_type": "code",
   "execution_count": 63,
   "id": "ec54d6a6",
   "metadata": {},
   "outputs": [
    {
     "data": {
      "text/plain": [
       "[9, 8, 7, 6, 5, 4, 3, 2, 1]"
      ]
     },
     "execution_count": 63,
     "metadata": {},
     "output_type": "execute_result"
    }
   ],
   "source": [
    "list1.reverse()\n",
    "list1"
   ]
  },
  {
   "cell_type": "markdown",
   "id": "643a03d6",
   "metadata": {},
   "source": [
    "### sort() : Sorts the list"
   ]
  },
  {
   "cell_type": "code",
   "execution_count": 65,
   "id": "f3bc82d2",
   "metadata": {},
   "outputs": [
    {
     "data": {
      "text/plain": [
       "[1, 2, 3, 4, 5, 6, 7, 8, 9]"
      ]
     },
     "execution_count": 65,
     "metadata": {},
     "output_type": "execute_result"
    }
   ],
   "source": [
    "list1.sort()\n",
    "list1"
   ]
  },
  {
   "cell_type": "code",
   "execution_count": 66,
   "id": "13d2e7a6",
   "metadata": {},
   "outputs": [
    {
     "data": {
      "text/plain": [
       "[9, 8, 7, 6, 5, 4, 3, 2, 1]"
      ]
     },
     "execution_count": 66,
     "metadata": {},
     "output_type": "execute_result"
    }
   ],
   "source": [
    "list1.sort(reverse = True)\n",
    "list1"
   ]
  },
  {
   "cell_type": "markdown",
   "id": "72a3f4ad",
   "metadata": {},
   "source": [
    "# SET"
   ]
  },
  {
   "cell_type": "code",
   "execution_count": 78,
   "id": "2314b2ad",
   "metadata": {},
   "outputs": [],
   "source": [
    "set1 = {1,2,3,4,5}\n",
    "set2 = {6,7,8,9,10}"
   ]
  },
  {
   "cell_type": "markdown",
   "id": "0ca26edc",
   "metadata": {},
   "source": [
    "### add() : Adds an element to the set"
   ]
  },
  {
   "cell_type": "code",
   "execution_count": 79,
   "id": "e6eaadbb",
   "metadata": {},
   "outputs": [
    {
     "data": {
      "text/plain": [
       "{0, 1, 2, 3, 4, 5}"
      ]
     },
     "execution_count": 79,
     "metadata": {},
     "output_type": "execute_result"
    }
   ],
   "source": [
    "set1.add(0)\n",
    "set1"
   ]
  },
  {
   "cell_type": "markdown",
   "id": "8cc72d88",
   "metadata": {},
   "source": [
    "### clear() : Removes all the elements from the set"
   ]
  },
  {
   "cell_type": "code",
   "execution_count": 80,
   "id": "df1d1910",
   "metadata": {},
   "outputs": [
    {
     "data": {
      "text/plain": [
       "set()"
      ]
     },
     "execution_count": 80,
     "metadata": {},
     "output_type": "execute_result"
    }
   ],
   "source": [
    "set2.clear()\n",
    "set2"
   ]
  },
  {
   "cell_type": "markdown",
   "id": "84a5f3fe",
   "metadata": {},
   "source": [
    "### copy() : Returns a copy of the set"
   ]
  },
  {
   "cell_type": "code",
   "execution_count": 81,
   "id": "391b2a93",
   "metadata": {},
   "outputs": [
    {
     "data": {
      "text/plain": [
       "{0, 1, 2, 3, 4, 5}"
      ]
     },
     "execution_count": 81,
     "metadata": {},
     "output_type": "execute_result"
    }
   ],
   "source": [
    "set2 = set1.copy()\n",
    "set2"
   ]
  },
  {
   "cell_type": "markdown",
   "id": "3fb0d8df",
   "metadata": {},
   "source": [
    "### difference() : Returns a set containing the difference between two or more sets"
   ]
  },
  {
   "cell_type": "code",
   "execution_count": 82,
   "id": "f95400c2",
   "metadata": {},
   "outputs": [
    {
     "data": {
      "text/plain": [
       "{0, 1, 5}"
      ]
     },
     "execution_count": 82,
     "metadata": {},
     "output_type": "execute_result"
    }
   ],
   "source": [
    "set3 = {6,4,8,2,3}\n",
    "set1.difference(set3)"
   ]
  },
  {
   "cell_type": "markdown",
   "id": "3e87e8f8",
   "metadata": {},
   "source": [
    "### difference_update() : Removes the items in this set that are also included in another, specified set"
   ]
  },
  {
   "cell_type": "code",
   "execution_count": 83,
   "id": "9479e685",
   "metadata": {},
   "outputs": [
    {
     "data": {
      "text/plain": [
       "{0, 1, 5}"
      ]
     },
     "execution_count": 83,
     "metadata": {},
     "output_type": "execute_result"
    }
   ],
   "source": [
    "set1.difference_update(set3)\n",
    "set1"
   ]
  },
  {
   "cell_type": "markdown",
   "id": "f0b1b976",
   "metadata": {},
   "source": [
    "### discard() : Remove the specified item"
   ]
  },
  {
   "cell_type": "code",
   "execution_count": 84,
   "id": "e4f2c996",
   "metadata": {},
   "outputs": [],
   "source": [
    "set1.discard(0)"
   ]
  },
  {
   "cell_type": "code",
   "execution_count": 85,
   "id": "da8d2047",
   "metadata": {},
   "outputs": [
    {
     "data": {
      "text/plain": [
       "{1, 5}"
      ]
     },
     "execution_count": 85,
     "metadata": {},
     "output_type": "execute_result"
    }
   ],
   "source": [
    "set1"
   ]
  },
  {
   "cell_type": "markdown",
   "id": "6f71bfa0",
   "metadata": {},
   "source": [
    "### intersection() : Returns a set, that is the intersection of two or more sets"
   ]
  },
  {
   "cell_type": "code",
   "execution_count": 87,
   "id": "f21aed0e",
   "metadata": {},
   "outputs": [
    {
     "data": {
      "text/plain": [
       "{2, 4}"
      ]
     },
     "execution_count": 87,
     "metadata": {},
     "output_type": "execute_result"
    }
   ],
   "source": [
    "set1 = {1,2,3,4,5}\n",
    "set2 = {2,4,6,7,9}\n",
    "set1.intersection(set2)"
   ]
  },
  {
   "cell_type": "markdown",
   "id": "9f38e31c",
   "metadata": {},
   "source": [
    "### intersection_update() : Removes the items in this set that are not present in other, specified set(s)"
   ]
  },
  {
   "cell_type": "code",
   "execution_count": 88,
   "id": "c45d305d",
   "metadata": {},
   "outputs": [
    {
     "data": {
      "text/plain": [
       "{2, 4}"
      ]
     },
     "execution_count": 88,
     "metadata": {},
     "output_type": "execute_result"
    }
   ],
   "source": [
    "set1.intersection_update(set2)\n",
    "set1"
   ]
  },
  {
   "cell_type": "markdown",
   "id": "b4a808a2",
   "metadata": {},
   "source": [
    "### isdisjoint() : Returns whether two sets have a intersection or not"
   ]
  },
  {
   "cell_type": "code",
   "execution_count": 89,
   "id": "adc7350d",
   "metadata": {},
   "outputs": [
    {
     "data": {
      "text/plain": [
       "False"
      ]
     },
     "execution_count": 89,
     "metadata": {},
     "output_type": "execute_result"
    }
   ],
   "source": [
    "set1.isdisjoint(set2)"
   ]
  },
  {
   "cell_type": "markdown",
   "id": "e323aecf",
   "metadata": {},
   "source": [
    "### issubset() : Returns whether another set contains this set or not"
   ]
  },
  {
   "cell_type": "code",
   "execution_count": 90,
   "id": "cd627213",
   "metadata": {},
   "outputs": [
    {
     "data": {
      "text/plain": [
       "True"
      ]
     },
     "execution_count": 90,
     "metadata": {},
     "output_type": "execute_result"
    }
   ],
   "source": [
    "set1.issubset(set2)"
   ]
  },
  {
   "cell_type": "markdown",
   "id": "6d3b65e0",
   "metadata": {},
   "source": [
    "### issuperset() : Returns whether this set contains another set or not"
   ]
  },
  {
   "cell_type": "code",
   "execution_count": 92,
   "id": "0eb23b13",
   "metadata": {},
   "outputs": [
    {
     "data": {
      "text/plain": [
       "True"
      ]
     },
     "execution_count": 92,
     "metadata": {},
     "output_type": "execute_result"
    }
   ],
   "source": [
    "set2.issuperset(set1)"
   ]
  },
  {
   "cell_type": "markdown",
   "id": "1a9e2f50",
   "metadata": {},
   "source": [
    "### pop() : Removes an element from the set"
   ]
  },
  {
   "cell_type": "code",
   "execution_count": 94,
   "id": "4b29362a",
   "metadata": {},
   "outputs": [
    {
     "data": {
      "text/plain": [
       "2"
      ]
     },
     "execution_count": 94,
     "metadata": {},
     "output_type": "execute_result"
    }
   ],
   "source": [
    "# here no index or element specification is allowed since sets are unordered\n",
    "set2.pop()"
   ]
  },
  {
   "cell_type": "markdown",
   "id": "a8fc5416",
   "metadata": {},
   "source": [
    "### remove() : Removes the specified element"
   ]
  },
  {
   "cell_type": "code",
   "execution_count": 96,
   "id": "314debaf",
   "metadata": {},
   "outputs": [
    {
     "data": {
      "text/plain": [
       "{4, 7, 9}"
      ]
     },
     "execution_count": 96,
     "metadata": {},
     "output_type": "execute_result"
    }
   ],
   "source": [
    "set2.remove(6)\n",
    "set2"
   ]
  },
  {
   "cell_type": "markdown",
   "id": "68a8bcaf",
   "metadata": {},
   "source": [
    "### symmetric_difference() : Returns a set with the symmetric differences of two sets"
   ]
  },
  {
   "cell_type": "code",
   "execution_count": 98,
   "id": "2c3a7cfb",
   "metadata": {},
   "outputs": [
    {
     "data": {
      "text/plain": [
       "{2, 7, 9}"
      ]
     },
     "execution_count": 98,
     "metadata": {},
     "output_type": "execute_result"
    }
   ],
   "source": [
    "set1.symmetric_difference(set2)"
   ]
  },
  {
   "cell_type": "markdown",
   "id": "1ac10cc7",
   "metadata": {},
   "source": [
    "### symmetric_difference_update() : inserts the symmetric differences from this set and another"
   ]
  },
  {
   "cell_type": "code",
   "execution_count": 100,
   "id": "d127830d",
   "metadata": {},
   "outputs": [
    {
     "data": {
      "text/plain": [
       "{2, 7, 9}"
      ]
     },
     "execution_count": 100,
     "metadata": {},
     "output_type": "execute_result"
    }
   ],
   "source": [
    "set1.symmetric_difference_update(set2)\n",
    "set1"
   ]
  },
  {
   "cell_type": "markdown",
   "id": "f9c14563",
   "metadata": {},
   "source": [
    "### union() : Return a set containing the union of sets"
   ]
  },
  {
   "cell_type": "code",
   "execution_count": 101,
   "id": "23433207",
   "metadata": {},
   "outputs": [
    {
     "data": {
      "text/plain": [
       "{2, 4, 7, 9}"
      ]
     },
     "execution_count": 101,
     "metadata": {},
     "output_type": "execute_result"
    }
   ],
   "source": [
    "set1.union(set2)"
   ]
  },
  {
   "cell_type": "markdown",
   "id": "b574630b",
   "metadata": {},
   "source": [
    "### update() : Update the set with another set, or any other iterable"
   ]
  },
  {
   "cell_type": "code",
   "execution_count": 102,
   "id": "c8a91fd3",
   "metadata": {},
   "outputs": [
    {
     "data": {
      "text/plain": [
       "{1, 2, 3, 7, 9}"
      ]
     },
     "execution_count": 102,
     "metadata": {},
     "output_type": "execute_result"
    }
   ],
   "source": [
    "set1.update({1,2,3})\n",
    "set1"
   ]
  },
  {
   "cell_type": "code",
   "execution_count": 103,
   "id": "b7a42686",
   "metadata": {},
   "outputs": [],
   "source": [
    "set1.update(set1.union(set2))"
   ]
  },
  {
   "cell_type": "code",
   "execution_count": 104,
   "id": "d450de2b",
   "metadata": {},
   "outputs": [
    {
     "data": {
      "text/plain": [
       "{1, 2, 3, 4, 7, 9}"
      ]
     },
     "execution_count": 104,
     "metadata": {},
     "output_type": "execute_result"
    }
   ],
   "source": [
    "set1"
   ]
  },
  {
   "cell_type": "code",
   "execution_count": null,
   "id": "4c2236bc",
   "metadata": {},
   "outputs": [],
   "source": []
  }
 ],
 "metadata": {
  "kernelspec": {
   "display_name": "Python 3 (ipykernel)",
   "language": "python",
   "name": "python3"
  },
  "language_info": {
   "codemirror_mode": {
    "name": "ipython",
    "version": 3
   },
   "file_extension": ".py",
   "mimetype": "text/x-python",
   "name": "python",
   "nbconvert_exporter": "python",
   "pygments_lexer": "ipython3",
   "version": "3.9.12"
  }
 },
 "nbformat": 4,
 "nbformat_minor": 5
}
