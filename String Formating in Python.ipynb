{
 "cells": [
  {
   "cell_type": "code",
   "execution_count": 1,
   "id": "69f9c983",
   "metadata": {},
   "outputs": [],
   "source": [
    "import datetime\n",
    "import time"
   ]
  },
  {
   "cell_type": "code",
   "execution_count": 6,
   "id": "944d2fbf",
   "metadata": {},
   "outputs": [
    {
     "name": "stdout",
     "output_type": "stream",
     "text": [
      "The start time is :  2022-09-09 23:43:27.451561\n"
     ]
    }
   ],
   "source": [
    "now = datetime.datetime.now()\n",
    "print(\"The start time is : \",now)"
   ]
  },
  {
   "cell_type": "code",
   "execution_count": 14,
   "id": "d6235482",
   "metadata": {},
   "outputs": [
    {
     "name": "stdout",
     "output_type": "stream",
     "text": [
      "3>>>2>>>1>>>start\n"
     ]
    }
   ],
   "source": [
    "counter = 3\n",
    "for i in reversed(range(counter + 1)):\n",
    "    if i > 0:\n",
    "        print(i,end = \">>>\",flush = True)\n",
    "        time.sleep(1)\n",
    "    else:\n",
    "        print(\"start\")"
   ]
  },
  {
   "cell_type": "markdown",
   "id": "12ed63ba",
   "metadata": {},
   "source": [
    "# STRING FORMATING"
   ]
  },
  {
   "cell_type": "markdown",
   "id": "f404d87a",
   "metadata": {},
   "source": [
    "### Method 1: Formatting string using % Operator"
   ]
  },
  {
   "cell_type": "code",
   "execution_count": 15,
   "id": "62bba954",
   "metadata": {},
   "outputs": [
    {
     "name": "stdout",
     "output_type": "stream",
     "text": [
      "%s is used to inject strings similarly %d for integers, %f for floating-point values, %b for binary format.\n"
     ]
    }
   ],
   "source": [
    "print(\"%s is used to inject strings similarly %s for integers, %s for floating-point values, %s for binary format.\"\n",
    "      %(\"%s\",\"%d\",\"%f\",\"%b\"))"
   ]
  },
  {
   "cell_type": "markdown",
   "id": "222feed3",
   "metadata": {},
   "source": [
    "### Method 2: Float point precision using % operator"
   ]
  },
  {
   "cell_type": "markdown",
   "id": "99c0a4c5",
   "metadata": {},
   "source": [
    "##### Floating-point numbers use the format %a.bf. Here, a would be the minimum number of digits to be present in the string; \n",
    "##### these might be padded with white space if the whole number doesn’t have this many digits. Close to this, bf represents how \n",
    "##### many digits are to be displayed after the decimal point."
   ]
  },
  {
   "cell_type": "code",
   "execution_count": 19,
   "id": "13eca65d",
   "metadata": {},
   "outputs": [
    {
     "name": "stdout",
     "output_type": "stream",
     "text": [
      "Rounding off 3.14 to a maximum of 2 decimal points and a minimum of 7 total digits :    3.14\n"
     ]
    }
   ],
   "source": [
    "print(\"Rounding off 3.14 to a maximum of 2 decimal points and a minimum of 7 total digits : %7.2f\"%(3.14))"
   ]
  },
  {
   "cell_type": "markdown",
   "id": "fb82bf6d",
   "metadata": {},
   "source": [
    "### Method 3: Formatting string using format() method"
   ]
  },
  {
   "cell_type": "markdown",
   "id": "ee23eb65",
   "metadata": {},
   "source": [
    "##### Format() method was introduced with Python3 for handling complex string formatting more efficiently. Formatters work by \n",
    "##### putting in one or more replacement fields and placeholders defined by a pair of curly braces { } into a string and calling\n",
    "##### the str.format(). The value we wish to put into the placeholders and concatenate with the string passed as parameters into\n",
    "##### the format function. "
   ]
  },
  {
   "cell_type": "code",
   "execution_count": 21,
   "id": "1ed0a1a7",
   "metadata": {},
   "outputs": [
    {
     "name": "stdout",
     "output_type": "stream",
     "text": [
      "The .format() method has many advantages over the placeholder method\n"
     ]
    }
   ],
   "source": [
    "print(\"The {} method has many advantages over the {} method\" .format('.format()','placeholder'))"
   ]
  },
  {
   "cell_type": "code",
   "execution_count": 22,
   "id": "9095f585",
   "metadata": {},
   "outputs": [
    {
     "name": "stdout",
     "output_type": "stream",
     "text": [
      "The .format() method has many advantages over the placeholder method\n"
     ]
    }
   ],
   "source": [
    "print(\"The {1} method has many advantages over the {0} method\" .format('placeholder','.format()'))"
   ]
  },
  {
   "cell_type": "code",
   "execution_count": 23,
   "id": "177ac6b8",
   "metadata": {},
   "outputs": [
    {
     "name": "stdout",
     "output_type": "stream",
     "text": [
      "The .format() method has many advantages over the placeholder method\n"
     ]
    }
   ],
   "source": [
    "print(\"The {b} method has many advantages over the {a} method\" .format(a = 'placeholder', b = '.format()'))"
   ]
  },
  {
   "cell_type": "markdown",
   "id": "1e0c6463",
   "metadata": {},
   "source": [
    "### Method 4: Formatted String using F-strings"
   ]
  },
  {
   "cell_type": "markdown",
   "id": "279f2b9b",
   "metadata": {},
   "source": [
    "##### F-strings (because of the leading f character preceding the string literal). The idea behind f-strings is to make string \n",
    "##### interpolation simpler.To create an f-string, prefix the string with the letter “ f ”. The string itself can be formatted \n",
    "##### in much the same way that you would with str.format(). F-strings provide a concise and convenient way to embed python \n",
    "##### expressions inside string literals for formatting."
   ]
  },
  {
   "cell_type": "code",
   "execution_count": 25,
   "id": "a5f2d061",
   "metadata": {},
   "outputs": [
    {
     "name": "stdout",
     "output_type": "stream",
     "text": [
      "This new formatting syntax is very powerful and easy.\n"
     ]
    }
   ],
   "source": [
    "word = \"powerful and easy\"\n",
    "print(F\"This new formatting syntax is very {word}.\")"
   ]
  },
  {
   "cell_type": "code",
   "execution_count": 27,
   "id": "1887cc5a",
   "metadata": {},
   "outputs": [
    {
     "name": "stdout",
     "output_type": "stream",
     "text": [
      "F-Strings are also helpful in arthimetic operations : 15\n"
     ]
    }
   ],
   "source": [
    "a , b = 2 , 3\n",
    "print(F\"F-Strings are also helpful in arthimetic operations : {3*(a+b)}\")"
   ]
  },
  {
   "cell_type": "code",
   "execution_count": 33,
   "id": "a9615a2d",
   "metadata": {},
   "outputs": [
    {
     "name": "stdout",
     "output_type": "stream",
     "text": [
      "F-Strings with lambda function : 6\n"
     ]
    }
   ],
   "source": [
    "y = 2\n",
    "print(F\"F-Strings with lambda function : {(lambda x:x*3)(y)}\")"
   ]
  },
  {
   "cell_type": "markdown",
   "id": "bf0f586c",
   "metadata": {},
   "source": [
    "### Method 5: Float precision with the.format() method:"
   ]
  },
  {
   "cell_type": "markdown",
   "id": "79c468df",
   "metadata": {},
   "source": [
    "##### Syntax: {[index]:[width][.precision][type]}"
   ]
  },
  {
   "cell_type": "code",
   "execution_count": 2,
   "id": "1bc70daa",
   "metadata": {},
   "outputs": [
    {
     "name": "stdout",
     "output_type": "stream",
     "text": [
      "printing the value of pi using .format method : 3.14000\n"
     ]
    }
   ],
   "source": [
    "print(\"printing the value of pi using .format method : {0:1.5f}\".format(3.14))"
   ]
  },
  {
   "cell_type": "markdown",
   "id": "db6cc738",
   "metadata": {},
   "source": [
    " ### Method 6: Float Precision using F-strings"
   ]
  },
  {
   "cell_type": "markdown",
   "id": "6f5e0aa9",
   "metadata": {},
   "source": [
    "##### Syntax: {value:{width}.{precision}}"
   ]
  },
  {
   "cell_type": "code",
   "execution_count": 9,
   "id": "9805bebe",
   "metadata": {},
   "outputs": [
    {
     "name": "stdout",
     "output_type": "stream",
     "text": [
      "printing the value of pi using F-Strings : 3.14\n"
     ]
    }
   ],
   "source": [
    "num = 3.1415\n",
    "print(F\"printing the value of pi using F-Strings : {num:{1}.{3}}\")"
   ]
  },
  {
   "cell_type": "code",
   "execution_count": null,
   "id": "08e95093",
   "metadata": {},
   "outputs": [],
   "source": []
  }
 ],
 "metadata": {
  "kernelspec": {
   "display_name": "Python 3 (ipykernel)",
   "language": "python",
   "name": "python3"
  },
  "language_info": {
   "codemirror_mode": {
    "name": "ipython",
    "version": 3
   },
   "file_extension": ".py",
   "mimetype": "text/x-python",
   "name": "python",
   "nbconvert_exporter": "python",
   "pygments_lexer": "ipython3",
   "version": "3.9.12"
  }
 },
 "nbformat": 4,
 "nbformat_minor": 5
}
