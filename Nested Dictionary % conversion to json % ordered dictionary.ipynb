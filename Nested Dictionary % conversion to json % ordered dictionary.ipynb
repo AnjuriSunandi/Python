{
 "cells": [
  {
   "cell_type": "markdown",
   "id": "fa7dbe9a",
   "metadata": {},
   "source": [
    "### Key Points to Remember:"
   ]
  },
  {
   "cell_type": "markdown",
   "id": "50dbe575",
   "metadata": {},
   "source": [
    "🪶Nested dictionary is an unordered collection of dictionary"
   ]
  },
  {
   "cell_type": "markdown",
   "id": "66d8ea01",
   "metadata": {},
   "source": [
    "🪶Slicing Nested Dictionary is not possible."
   ]
  },
  {
   "cell_type": "markdown",
   "id": "d5518136",
   "metadata": {},
   "source": [
    "🪶We can shrink or grow nested dictionary as need."
   ]
  },
  {
   "cell_type": "markdown",
   "id": "34bfa5ec",
   "metadata": {},
   "source": [
    "🪶Like Dictionary, it also has key and value."
   ]
  },
  {
   "cell_type": "markdown",
   "id": "38c73c2d",
   "metadata": {},
   "source": [
    "🪶Dictionary are accessed using key."
   ]
  },
  {
   "cell_type": "code",
   "execution_count": 2,
   "id": "5bb665dd",
   "metadata": {},
   "outputs": [
    {
     "data": {
      "text/plain": [
       "{'sunandi': {'regno': 5402, 'branch': 'AI&DS'},\n",
       " 'Madhu': {'regno': 1234, 'branch': 'IT-C'},\n",
       " 'srikari': {'regno': 4567, 'branch': 'IT-B'}}"
      ]
     },
     "execution_count": 2,
     "metadata": {},
     "output_type": "execute_result"
    }
   ],
   "source": [
    "nested_dict = {\n",
    "        \"sunandi\":{\"regno\":5402,\"branch\":\"AI&DS\"},\n",
    "         \"Madhu\" :{\"regno\":1234,\"branch\":\"IT-C\"},    \n",
    "        \"srikari\" : {\"regno\":4567,\"branch\":\"IT-B\"}\n",
    "              }\n",
    "nested_dict"
   ]
  },
  {
   "cell_type": "code",
   "execution_count": 6,
   "id": "c16e500d",
   "metadata": {},
   "outputs": [
    {
     "data": {
      "text/plain": [
       "{'sunandi': {'regno': '5402', 'branch': 'AI&DS'},\n",
       " 'Madhu': {'regno': '1234', 'branch': 'IT-C'},\n",
       " 'srikari': {'regno': '4567', 'branch': 'IT-B'}}"
      ]
     },
     "execution_count": 6,
     "metadata": {},
     "output_type": "execute_result"
    }
   ],
   "source": [
    "su = {\"regno\":\"5402\",\"branch\":\"AI&DS\"}\n",
    "ma = {\"regno\":\"1234\",\"branch\":\"IT-C\"}\n",
    "sk = {\"regno\":\"4567\",\"branch\":\"IT-B\"}\n",
    "nested_dict = {\n",
    "        \"sunandi\":su,\n",
    "         \"Madhu\" :ma,    \n",
    "        \"srikari\" :sk \n",
    "              }\n",
    "nested_dict"
   ]
  },
  {
   "cell_type": "code",
   "execution_count": 10,
   "id": "aa1d4a0d",
   "metadata": {},
   "outputs": [
    {
     "name": "stdout",
     "output_type": "stream",
     "text": [
      "sunandi :\n",
      "regno:5402\n",
      "branch:AI&DS\n",
      "\n",
      "Madhu :\n",
      "regno:1234\n",
      "branch:IT-C\n",
      "\n",
      "srikari :\n",
      "regno:4567\n",
      "branch:IT-B\n",
      "\n"
     ]
    }
   ],
   "source": [
    "#printing\n",
    "for key,value in nested_dict.items():\n",
    "    print(key+\" :\")\n",
    "    for k,v in value.items():\n",
    "        print(k + \":\" + v)\n",
    "    print()"
   ]
  },
  {
   "cell_type": "code",
   "execution_count": 11,
   "id": "9bf0eaae",
   "metadata": {},
   "outputs": [
    {
     "data": {
      "text/plain": [
       "'AI&DS'"
      ]
     },
     "execution_count": 11,
     "metadata": {},
     "output_type": "execute_result"
    }
   ],
   "source": [
    "#accessing\n",
    "nested_dict[\"sunandi\"][\"branch\"]"
   ]
  },
  {
   "cell_type": "code",
   "execution_count": 12,
   "id": "2b62e146",
   "metadata": {},
   "outputs": [
    {
     "data": {
      "text/plain": [
       "{'regno': '1234', 'branch': 'IT-C'}"
      ]
     },
     "execution_count": 12,
     "metadata": {},
     "output_type": "execute_result"
    }
   ],
   "source": [
    "nested_dict[\"Madhu\"]"
   ]
  },
  {
   "cell_type": "code",
   "execution_count": 13,
   "id": "2a62b038",
   "metadata": {},
   "outputs": [],
   "source": [
    "del nested_dict[\"srikari\"]"
   ]
  },
  {
   "cell_type": "code",
   "execution_count": 14,
   "id": "18e08b75",
   "metadata": {},
   "outputs": [
    {
     "data": {
      "text/plain": [
       "{'sunandi': {'regno': '5402', 'branch': 'AI&DS'},\n",
       " 'Madhu': {'regno': '1234', 'branch': 'IT-C'}}"
      ]
     },
     "execution_count": 14,
     "metadata": {},
     "output_type": "execute_result"
    }
   ],
   "source": [
    "nested_dict"
   ]
  },
  {
   "cell_type": "code",
   "execution_count": 15,
   "id": "2b67d0da",
   "metadata": {},
   "outputs": [
    {
     "data": {
      "text/plain": [
       "{'sunandi': {'regno': '5402', 'branch': 'AI&DS'}, 'Madhu': {'regno': '1234'}}"
      ]
     },
     "execution_count": 15,
     "metadata": {},
     "output_type": "execute_result"
    }
   ],
   "source": [
    "del nested_dict[\"Madhu\"][\"branch\"]\n",
    "nested_dict"
   ]
  },
  {
   "cell_type": "markdown",
   "id": "47c183cb",
   "metadata": {},
   "source": [
    "# convert dictionary to JSON in Python"
   ]
  },
  {
   "cell_type": "code",
   "execution_count": 16,
   "id": "0cfa9d8d",
   "metadata": {},
   "outputs": [
    {
     "data": {
      "text/plain": [
       "'{\"sunandi\": {\"regno\": 5402, \"branch\": \"AI&DS\"}, \"Madhu\": {\"regno\": 1234, \"branch\": \"IT-C\"}, \"srikari\": {\"regno\": 4567, \"branch\": \"IT-B\"}}'"
      ]
     },
     "execution_count": 16,
     "metadata": {},
     "output_type": "execute_result"
    }
   ],
   "source": [
    "import json\n",
    "\n",
    "nested_dict = {\n",
    "        \"sunandi\":{\"regno\":5402,\"branch\":\"AI&DS\"},\n",
    "         \"Madhu\" :{\"regno\":1234,\"branch\":\"IT-C\"},    \n",
    "        \"srikari\" : {\"regno\":4567,\"branch\":\"IT-B\"}\n",
    "              }\n",
    "details = json.dumps(nested_dict)\n",
    "details"
   ]
  },
  {
   "cell_type": "code",
   "execution_count": 19,
   "id": "625b757b",
   "metadata": {},
   "outputs": [
    {
     "data": {
      "text/plain": [
       "{'sunandi': {'regno': 5402, 'branch': 'AI&DS'},\n",
       " 'Madhu': {'regno': 1234, 'branch': 'IT-C'},\n",
       " 'srikari': {'regno': 4567, 'branch': 'IT-B'}}"
      ]
     },
     "execution_count": 19,
     "metadata": {},
     "output_type": "execute_result"
    }
   ],
   "source": [
    "#json to python dictionary\n",
    "details2 = json.loads(details)\n",
    "details2"
   ]
  },
  {
   "cell_type": "markdown",
   "id": "729cd66b",
   "metadata": {},
   "source": [
    "# Ordered Dictionary"
   ]
  },
  {
   "cell_type": "code",
   "execution_count": 24,
   "id": "46ce5f1e",
   "metadata": {},
   "outputs": [
    {
     "name": "stdout",
     "output_type": "stream",
     "text": [
      "a 1\n",
      "b 2\n",
      "c 3\n",
      "d 4\n"
     ]
    }
   ],
   "source": [
    "d = {}\n",
    "d['a'] = 1\n",
    "d['b'] = 2\n",
    "d['c'] = 3\n",
    "d['d'] = 4\n",
    "\n",
    "for k,v in d.items():\n",
    "    print(k , v)"
   ]
  },
  {
   "cell_type": "code",
   "execution_count": 26,
   "id": "3dc1c775",
   "metadata": {},
   "outputs": [],
   "source": [
    "from collections import OrderedDict\n",
    "od = OrderedDict()\n",
    "od['a'] = 1\n",
    "od['b'] = 2\n",
    "od['c'] = 3\n",
    "od['d'] = 4"
   ]
  },
  {
   "cell_type": "code",
   "execution_count": 27,
   "id": "cb948c2e",
   "metadata": {},
   "outputs": [
    {
     "data": {
      "text/plain": [
       "3"
      ]
     },
     "execution_count": 27,
     "metadata": {},
     "output_type": "execute_result"
    }
   ],
   "source": [
    "d.pop(\"c\")"
   ]
  },
  {
   "cell_type": "code",
   "execution_count": 28,
   "id": "1f50d7b8",
   "metadata": {},
   "outputs": [
    {
     "data": {
      "text/plain": [
       "3"
      ]
     },
     "execution_count": 28,
     "metadata": {},
     "output_type": "execute_result"
    }
   ],
   "source": [
    "od.pop(\"c\")"
   ]
  },
  {
   "cell_type": "code",
   "execution_count": 29,
   "id": "9417e30d",
   "metadata": {},
   "outputs": [],
   "source": [
    "d[\"c\"] = 3"
   ]
  },
  {
   "cell_type": "code",
   "execution_count": 30,
   "id": "e27bad7d",
   "metadata": {},
   "outputs": [
    {
     "data": {
      "text/plain": [
       "{'a': 1, 'b': 2, 'd': 4, 'c': 3}"
      ]
     },
     "execution_count": 30,
     "metadata": {},
     "output_type": "execute_result"
    }
   ],
   "source": [
    "d"
   ]
  },
  {
   "cell_type": "code",
   "execution_count": 31,
   "id": "537a3380",
   "metadata": {},
   "outputs": [],
   "source": [
    "od[\"c\"] = 3"
   ]
  },
  {
   "cell_type": "code",
   "execution_count": 32,
   "id": "484f3b0b",
   "metadata": {},
   "outputs": [
    {
     "data": {
      "text/plain": [
       "OrderedDict([('a', 1), ('b', 2), ('d', 4), ('c', 3)])"
      ]
     },
     "execution_count": 32,
     "metadata": {},
     "output_type": "execute_result"
    }
   ],
   "source": [
    "od"
   ]
  },
  {
   "cell_type": "code",
   "execution_count": 33,
   "id": "6ecf6c25",
   "metadata": {},
   "outputs": [
    {
     "data": {
      "text/plain": [
       "OrderedDict([('a', 1), ('b', 2), ('d', 4), ('c', 5)])"
      ]
     },
     "execution_count": 33,
     "metadata": {},
     "output_type": "execute_result"
    }
   ],
   "source": [
    "od[\"c\"] = 5\n",
    "od"
   ]
  },
  {
   "cell_type": "code",
   "execution_count": 34,
   "id": "e87dcf2d",
   "metadata": {},
   "outputs": [],
   "source": [
    "#there is no difference between ordereddict and dict from python version - 3\n",
    "#they both maintain the same order of insertion\n",
    "#in preious versions we could find the difference between dict and ordereddict since ordered dict consumed more memory space\n",
    "#since they internally use double linked lists in order to maintain the order of insertion"
   ]
  },
  {
   "cell_type": "code",
   "execution_count": null,
   "id": "94da2529",
   "metadata": {},
   "outputs": [],
   "source": []
  }
 ],
 "metadata": {
  "kernelspec": {
   "display_name": "Python 3 (ipykernel)",
   "language": "python",
   "name": "python3"
  },
  "language_info": {
   "codemirror_mode": {
    "name": "ipython",
    "version": 3
   },
   "file_extension": ".py",
   "mimetype": "text/x-python",
   "name": "python",
   "nbconvert_exporter": "python",
   "pygments_lexer": "ipython3",
   "version": "3.9.12"
  }
 },
 "nbformat": 4,
 "nbformat_minor": 5
}
