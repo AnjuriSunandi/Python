{
 "cells": [
  {
   "cell_type": "code",
   "execution_count": 1,
   "id": "e858f532",
   "metadata": {},
   "outputs": [],
   "source": [
    "dict = {1 : \"sunandi\",2:\"kalyani\",3:\"shanmukha\",4:\"anjuri\",5:\"kaligotla\",6:\"bomma\"}"
   ]
  },
  {
   "cell_type": "code",
   "execution_count": 2,
   "id": "1eee72c4",
   "metadata": {},
   "outputs": [
    {
     "data": {
      "text/plain": [
       "{1: 'sunandi',\n",
       " 2: 'kalyani',\n",
       " 3: 'shanmukha',\n",
       " 4: 'anjuri',\n",
       " 5: 'kaligotla',\n",
       " 6: 'bomma'}"
      ]
     },
     "execution_count": 2,
     "metadata": {},
     "output_type": "execute_result"
    }
   ],
   "source": [
    "dict"
   ]
  },
  {
   "cell_type": "markdown",
   "id": "daa0015e",
   "metadata": {},
   "source": [
    "### copy() : Returns a copy of the dictionary"
   ]
  },
  {
   "cell_type": "code",
   "execution_count": 3,
   "id": "371c9367",
   "metadata": {},
   "outputs": [
    {
     "data": {
      "text/plain": [
       "{1: 'sunandi',\n",
       " 2: 'kalyani',\n",
       " 3: 'shanmukha',\n",
       " 4: 'anjuri',\n",
       " 5: 'kaligotla',\n",
       " 6: 'bomma'}"
      ]
     },
     "execution_count": 3,
     "metadata": {},
     "output_type": "execute_result"
    }
   ],
   "source": [
    "dict1 = dict.copy()\n",
    "dict1"
   ]
  },
  {
   "cell_type": "markdown",
   "id": "b16a546c",
   "metadata": {},
   "source": [
    "### clear() : Removes all the elements from the dictionary"
   ]
  },
  {
   "cell_type": "code",
   "execution_count": 4,
   "id": "281cc5ff",
   "metadata": {},
   "outputs": [
    {
     "data": {
      "text/plain": [
       "{}"
      ]
     },
     "execution_count": 4,
     "metadata": {},
     "output_type": "execute_result"
    }
   ],
   "source": [
    "dict.clear()\n",
    "dict"
   ]
  },
  {
   "cell_type": "markdown",
   "id": "afd02b5b",
   "metadata": {},
   "source": [
    "### fromkeys() : Returns a dictionary with the specified keys and value"
   ]
  },
  {
   "cell_type": "code",
   "execution_count": 5,
   "id": "c893579d",
   "metadata": {},
   "outputs": [
    {
     "data": {
      "text/plain": [
       "{'a': 1, 'b': 1, 'c': 1, 'd': 1}"
      ]
     },
     "execution_count": 5,
     "metadata": {},
     "output_type": "execute_result"
    }
   ],
   "source": [
    "#Creates a dictionary from the given sequence\n",
    "seq = [\"a\",\"b\",\"c\",\"d\"]\n",
    "dict.fromkeys(seq,1)"
   ]
  },
  {
   "cell_type": "code",
   "execution_count": 6,
   "id": "e5d53040",
   "metadata": {},
   "outputs": [
    {
     "data": {
      "text/plain": [
       "{'a': None, 'b': None, 'c': None, 'd': None}"
      ]
     },
     "execution_count": 6,
     "metadata": {},
     "output_type": "execute_result"
    }
   ],
   "source": [
    "dict.fromkeys(seq,None)"
   ]
  },
  {
   "cell_type": "markdown",
   "id": "9fe8cdba",
   "metadata": {},
   "source": [
    "### get() : Returns the value of the specified key"
   ]
  },
  {
   "cell_type": "code",
   "execution_count": 7,
   "id": "8340ac3d",
   "metadata": {},
   "outputs": [
    {
     "data": {
      "text/plain": [
       "'kalyani'"
      ]
     },
     "execution_count": 7,
     "metadata": {},
     "output_type": "execute_result"
    }
   ],
   "source": [
    "dict1.get(2)"
   ]
  },
  {
   "cell_type": "code",
   "execution_count": 8,
   "id": "041b7b02",
   "metadata": {},
   "outputs": [
    {
     "data": {
      "text/plain": [
       "'kalyani'"
      ]
     },
     "execution_count": 8,
     "metadata": {},
     "output_type": "execute_result"
    }
   ],
   "source": [
    "dict1[2]"
   ]
  },
  {
   "cell_type": "markdown",
   "id": "fdf9d408",
   "metadata": {},
   "source": [
    "### items() : Returns a list containing a tuple for each key value pair"
   ]
  },
  {
   "cell_type": "code",
   "execution_count": 9,
   "id": "25521855",
   "metadata": {},
   "outputs": [
    {
     "data": {
      "text/plain": [
       "dict_items([(1, 'sunandi'), (2, 'kalyani'), (3, 'shanmukha'), (4, 'anjuri'), (5, 'kaligotla'), (6, 'bomma')])"
      ]
     },
     "execution_count": 9,
     "metadata": {},
     "output_type": "execute_result"
    }
   ],
   "source": [
    "dict1.items()"
   ]
  },
  {
   "cell_type": "markdown",
   "id": "b22ee233",
   "metadata": {},
   "source": [
    "### keys() : Returns a list containing the dictionary's keys"
   ]
  },
  {
   "cell_type": "code",
   "execution_count": 10,
   "id": "a70af483",
   "metadata": {},
   "outputs": [
    {
     "data": {
      "text/plain": [
       "dict_keys([1, 2, 3, 4, 5, 6])"
      ]
     },
     "execution_count": 10,
     "metadata": {},
     "output_type": "execute_result"
    }
   ],
   "source": [
    "dict1.keys()"
   ]
  },
  {
   "cell_type": "markdown",
   "id": "74fb579c",
   "metadata": {},
   "source": [
    "### values() : Returns a list of all the values in the dictionary"
   ]
  },
  {
   "cell_type": "code",
   "execution_count": 11,
   "id": "723fd914",
   "metadata": {},
   "outputs": [
    {
     "data": {
      "text/plain": [
       "dict_values(['sunandi', 'kalyani', 'shanmukha', 'anjuri', 'kaligotla', 'bomma'])"
      ]
     },
     "execution_count": 11,
     "metadata": {},
     "output_type": "execute_result"
    }
   ],
   "source": [
    "dict1.values()"
   ]
  },
  {
   "cell_type": "markdown",
   "id": "934e4307",
   "metadata": {},
   "source": [
    "### pop() : Removes the element with the specified key"
   ]
  },
  {
   "cell_type": "code",
   "execution_count": 12,
   "id": "7a2fe196",
   "metadata": {},
   "outputs": [
    {
     "data": {
      "text/plain": [
       "'sunandi'"
      ]
     },
     "execution_count": 12,
     "metadata": {},
     "output_type": "execute_result"
    }
   ],
   "source": [
    "#requires an argument cannot delete the last element without specification like lists and set\n",
    "dict1.pop(1)"
   ]
  },
  {
   "cell_type": "code",
   "execution_count": 13,
   "id": "a8566b6c",
   "metadata": {},
   "outputs": [
    {
     "data": {
      "text/plain": [
       "{2: 'kalyani', 3: 'shanmukha', 4: 'anjuri', 5: 'kaligotla', 6: 'bomma'}"
      ]
     },
     "execution_count": 13,
     "metadata": {},
     "output_type": "execute_result"
    }
   ],
   "source": [
    "dict1"
   ]
  },
  {
   "cell_type": "code",
   "execution_count": 14,
   "id": "c72ddf05",
   "metadata": {},
   "outputs": [],
   "source": [
    "#dict1.pop() -> error"
   ]
  },
  {
   "cell_type": "markdown",
   "id": "5a616d69",
   "metadata": {},
   "source": [
    "### popitem() : Removes the last inserted key-value pair"
   ]
  },
  {
   "cell_type": "code",
   "execution_count": 15,
   "id": "ac7e82c3",
   "metadata": {},
   "outputs": [
    {
     "data": {
      "text/plain": [
       "(6, 'bomma')"
      ]
     },
     "execution_count": 15,
     "metadata": {},
     "output_type": "execute_result"
    }
   ],
   "source": [
    "dict1.popitem()"
   ]
  },
  {
   "cell_type": "code",
   "execution_count": 16,
   "id": "addffc82",
   "metadata": {},
   "outputs": [
    {
     "data": {
      "text/plain": [
       "{2: 'kalyani', 3: 'shanmukha', 4: 'anjuri', 5: 'kaligotla'}"
      ]
     },
     "execution_count": 16,
     "metadata": {},
     "output_type": "execute_result"
    }
   ],
   "source": [
    "dict1"
   ]
  },
  {
   "cell_type": "markdown",
   "id": "df7ed64a",
   "metadata": {},
   "source": [
    "### setdefault() : Returns the value of the specified key. If the key does not exist: insert the key, with the specified value"
   ]
  },
  {
   "cell_type": "code",
   "execution_count": 17,
   "id": "44caa257",
   "metadata": {},
   "outputs": [
    {
     "data": {
      "text/plain": [
       "'sunandi'"
      ]
     },
     "execution_count": 17,
     "metadata": {},
     "output_type": "execute_result"
    }
   ],
   "source": [
    "dict1.setdefault(1,\"sunandi\")"
   ]
  },
  {
   "cell_type": "code",
   "execution_count": 18,
   "id": "ad29e203",
   "metadata": {},
   "outputs": [
    {
     "data": {
      "text/plain": [
       "{2: 'kalyani', 3: 'shanmukha', 4: 'anjuri', 5: 'kaligotla', 1: 'sunandi'}"
      ]
     },
     "execution_count": 18,
     "metadata": {},
     "output_type": "execute_result"
    }
   ],
   "source": [
    "dict1"
   ]
  },
  {
   "cell_type": "code",
   "execution_count": 19,
   "id": "dc936555",
   "metadata": {},
   "outputs": [
    {
     "data": {
      "text/plain": [
       "'kalyani'"
      ]
     },
     "execution_count": 19,
     "metadata": {},
     "output_type": "execute_result"
    }
   ],
   "source": [
    "dict1.setdefault(2,\"elaka\")"
   ]
  },
  {
   "cell_type": "code",
   "execution_count": 20,
   "id": "38c779ae",
   "metadata": {},
   "outputs": [
    {
     "data": {
      "text/plain": [
       "{2: 'kalyani', 3: 'shanmukha', 4: 'anjuri', 5: 'kaligotla', 1: 'sunandi'}"
      ]
     },
     "execution_count": 20,
     "metadata": {},
     "output_type": "execute_result"
    }
   ],
   "source": [
    "dict1"
   ]
  },
  {
   "cell_type": "markdown",
   "id": "4ff23f3b",
   "metadata": {},
   "source": [
    "### update() : Updates the dictionary with the specified key-value pairs"
   ]
  },
  {
   "cell_type": "code",
   "execution_count": 21,
   "id": "ad3f8586",
   "metadata": {},
   "outputs": [],
   "source": [
    "dict1.update({7:\"good\"})"
   ]
  },
  {
   "cell_type": "code",
   "execution_count": 22,
   "id": "96c26f70",
   "metadata": {},
   "outputs": [
    {
     "data": {
      "text/plain": [
       "{2: 'kalyani',\n",
       " 3: 'shanmukha',\n",
       " 4: 'anjuri',\n",
       " 5: 'kaligotla',\n",
       " 1: 'sunandi',\n",
       " 7: 'good'}"
      ]
     },
     "execution_count": 22,
     "metadata": {},
     "output_type": "execute_result"
    }
   ],
   "source": [
    "dict1"
   ]
  },
  {
   "cell_type": "markdown",
   "id": "2583e402",
   "metadata": {},
   "source": [
    "# Extract Key from Python Dictionary using Value"
   ]
  },
  {
   "cell_type": "markdown",
   "id": "8c974c9c",
   "metadata": {},
   "source": [
    "#### Method 1: Get the key by value using list comprehension"
   ]
  },
  {
   "cell_type": "code",
   "execution_count": 33,
   "id": "5d0c6095",
   "metadata": {},
   "outputs": [],
   "source": [
    "key = {i for i in dict1 if dict1[i] == \"shanmukha\"}"
   ]
  },
  {
   "cell_type": "code",
   "execution_count": 34,
   "id": "3d12599e",
   "metadata": {},
   "outputs": [
    {
     "data": {
      "text/plain": [
       "{3}"
      ]
     },
     "execution_count": 34,
     "metadata": {},
     "output_type": "execute_result"
    }
   ],
   "source": [
    "key"
   ]
  },
  {
   "cell_type": "markdown",
   "id": "089c692d",
   "metadata": {},
   "source": [
    "#### Method 2: Get the key by value using a list.index()"
   ]
  },
  {
   "cell_type": "code",
   "execution_count": 37,
   "id": "9c84d624",
   "metadata": {},
   "outputs": [
    {
     "name": "stdout",
     "output_type": "stream",
     "text": [
      "3\n"
     ]
    }
   ],
   "source": [
    "value_s = list(dict1.values())\n",
    "key_s = list(dict1.keys())\n",
    "val_index = value_s.index(\"shanmukha\")\n",
    "print(key_s[val_index])"
   ]
  },
  {
   "cell_type": "markdown",
   "id": "81715444",
   "metadata": {},
   "source": [
    "#### Method 3: Get the key by value using dict.item()"
   ]
  },
  {
   "cell_type": "code",
   "execution_count": 38,
   "id": "aee0b6ba",
   "metadata": {},
   "outputs": [
    {
     "name": "stdout",
     "output_type": "stream",
     "text": [
      "3\n"
     ]
    }
   ],
   "source": [
    "def key_(val):\n",
    "    for key,value in dict1.items():\n",
    "        if val == value:\n",
    "            return key\n",
    "\n",
    "print(key_('shanmukha'))"
   ]
  },
  {
   "cell_type": "code",
   "execution_count": null,
   "id": "7b78d025",
   "metadata": {},
   "outputs": [],
   "source": []
  }
 ],
 "metadata": {
  "kernelspec": {
   "display_name": "Python 3 (ipykernel)",
   "language": "python",
   "name": "python3"
  },
  "language_info": {
   "codemirror_mode": {
    "name": "ipython",
    "version": 3
   },
   "file_extension": ".py",
   "mimetype": "text/x-python",
   "name": "python",
   "nbconvert_exporter": "python",
   "pygments_lexer": "ipython3",
   "version": "3.9.12"
  }
 },
 "nbformat": 4,
 "nbformat_minor": 5
}
