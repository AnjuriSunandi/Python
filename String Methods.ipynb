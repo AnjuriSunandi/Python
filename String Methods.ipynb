{
 "cells": [
  {
   "cell_type": "code",
   "execution_count": 2,
   "id": "946788a2",
   "metadata": {},
   "outputs": [],
   "source": [
    "str1 = \"sunandi\""
   ]
  },
  {
   "cell_type": "code",
   "execution_count": 3,
   "id": "5bee8254",
   "metadata": {},
   "outputs": [
    {
     "data": {
      "text/plain": [
       "'Sunandi'"
      ]
     },
     "execution_count": 3,
     "metadata": {},
     "output_type": "execute_result"
    }
   ],
   "source": [
    "#capitalize()\tConverts the first character to upper case\n",
    "str1.capitalize()"
   ]
  },
  {
   "cell_type": "code",
   "execution_count": 4,
   "id": "caa49904",
   "metadata": {},
   "outputs": [
    {
     "data": {
      "text/plain": [
       "'sunandi'"
      ]
     },
     "execution_count": 4,
     "metadata": {},
     "output_type": "execute_result"
    }
   ],
   "source": [
    "#casefold()\tConverts string into lower case\n",
    "str1.casefold()"
   ]
  },
  {
   "cell_type": "code",
   "execution_count": 13,
   "id": "7e4f4c46",
   "metadata": {},
   "outputs": [
    {
     "data": {
      "text/plain": [
       "'my name is sunandi'"
      ]
     },
     "execution_count": 13,
     "metadata": {},
     "output_type": "execute_result"
    }
   ],
   "source": [
    "#center()\tReturns a centered string\n",
    "\"my name is sunandi\".center(0)"
   ]
  },
  {
   "cell_type": "code",
   "execution_count": 14,
   "id": "8ac61a73",
   "metadata": {},
   "outputs": [
    {
     "data": {
      "text/plain": [
       "2"
      ]
     },
     "execution_count": 14,
     "metadata": {},
     "output_type": "execute_result"
    }
   ],
   "source": [
    "#count()\tReturns the number of times a specified value occurs in a string\n",
    "str1.count(\"n\")"
   ]
  },
  {
   "cell_type": "code",
   "execution_count": 15,
   "id": "bf1d60d5",
   "metadata": {},
   "outputs": [
    {
     "data": {
      "text/plain": [
       "b'sunandi'"
      ]
     },
     "execution_count": 15,
     "metadata": {},
     "output_type": "execute_result"
    }
   ],
   "source": [
    "#encode()\tReturns an encoded version of the string\n",
    "str1.encode()"
   ]
  },
  {
   "cell_type": "code",
   "execution_count": 16,
   "id": "38f7795f",
   "metadata": {},
   "outputs": [
    {
     "data": {
      "text/plain": [
       "True"
      ]
     },
     "execution_count": 16,
     "metadata": {},
     "output_type": "execute_result"
    }
   ],
   "source": [
    "#endswith()\tReturns true if the string ends with the specified value\n",
    "str1.endswith(\"i\")"
   ]
  },
  {
   "cell_type": "code",
   "execution_count": 22,
   "id": "06265172",
   "metadata": {},
   "outputs": [
    {
     "data": {
      "text/plain": [
       "'sunandi'"
      ]
     },
     "execution_count": 22,
     "metadata": {},
     "output_type": "execute_result"
    }
   ],
   "source": [
    "#expandtabs()\tSets the tab size of the string\n",
    "str1.expandtabs(10)"
   ]
  },
  {
   "cell_type": "code",
   "execution_count": 23,
   "id": "3156a652",
   "metadata": {},
   "outputs": [
    {
     "data": {
      "text/plain": [
       "3"
      ]
     },
     "execution_count": 23,
     "metadata": {},
     "output_type": "execute_result"
    }
   ],
   "source": [
    "#find()\tSearches the string for a specified value and returns the position of where it was found\n",
    "str1.find(\"a\")"
   ]
  },
  {
   "cell_type": "code",
   "execution_count": 24,
   "id": "a0b5d940",
   "metadata": {},
   "outputs": [
    {
     "data": {
      "text/plain": [
       "'sunandi'"
      ]
     },
     "execution_count": 24,
     "metadata": {},
     "output_type": "execute_result"
    }
   ],
   "source": [
    "#format()\tFormats specified values in a string\n",
    "str1.format()"
   ]
  },
  {
   "cell_type": "code",
   "execution_count": 26,
   "id": "867ea2f7",
   "metadata": {},
   "outputs": [
    {
     "data": {
      "text/plain": [
       "'sunandi'"
      ]
     },
     "execution_count": 26,
     "metadata": {},
     "output_type": "execute_result"
    }
   ],
   "source": [
    "#format_map()\tFormats specified values in a string\n",
    "str1.format_map(1)"
   ]
  },
  {
   "cell_type": "code",
   "execution_count": 30,
   "id": "a9b0e41d",
   "metadata": {},
   "outputs": [
    {
     "data": {
      "text/plain": [
       "1"
      ]
     },
     "execution_count": 30,
     "metadata": {},
     "output_type": "execute_result"
    }
   ],
   "source": [
    "#index()\tSearches the string for a specified value and returns the position of where it was found\n",
    "str1.index(\"un\")"
   ]
  },
  {
   "cell_type": "code",
   "execution_count": 31,
   "id": "bfcaf038",
   "metadata": {},
   "outputs": [
    {
     "data": {
      "text/plain": [
       "True"
      ]
     },
     "execution_count": 31,
     "metadata": {},
     "output_type": "execute_result"
    }
   ],
   "source": [
    "#isalnum()\tReturns True if all characters in the string are alphanumeric\n",
    "str1.isalnum()"
   ]
  },
  {
   "cell_type": "code",
   "execution_count": 32,
   "id": "18676c72",
   "metadata": {},
   "outputs": [
    {
     "data": {
      "text/plain": [
       "True"
      ]
     },
     "execution_count": 32,
     "metadata": {},
     "output_type": "execute_result"
    }
   ],
   "source": [
    "#isalpha()\tReturns True if all characters in the string are in the alphabet\n",
    "str1.isalpha()"
   ]
  },
  {
   "cell_type": "code",
   "execution_count": 33,
   "id": "9f8319b4",
   "metadata": {},
   "outputs": [
    {
     "data": {
      "text/plain": [
       "True"
      ]
     },
     "execution_count": 33,
     "metadata": {},
     "output_type": "execute_result"
    }
   ],
   "source": [
    "#isascii()\tReturns True if all characters in the string are ascii characters\n",
    "str1.isascii()"
   ]
  },
  {
   "cell_type": "code",
   "execution_count": 34,
   "id": "b58a48cc",
   "metadata": {},
   "outputs": [
    {
     "data": {
      "text/plain": [
       "False"
      ]
     },
     "execution_count": 34,
     "metadata": {},
     "output_type": "execute_result"
    }
   ],
   "source": [
    "#isdecimal()\tReturns True if all characters in the string are decimals\n",
    "str1.isdecimal()"
   ]
  },
  {
   "cell_type": "code",
   "execution_count": 35,
   "id": "0bf04fd5",
   "metadata": {},
   "outputs": [
    {
     "data": {
      "text/plain": [
       "False"
      ]
     },
     "execution_count": 35,
     "metadata": {},
     "output_type": "execute_result"
    }
   ],
   "source": [
    "#isdigit()\tReturns True if all characters in the string are digits\n",
    "str1.isdigit()"
   ]
  },
  {
   "cell_type": "code",
   "execution_count": 36,
   "id": "2f7d3bfd",
   "metadata": {},
   "outputs": [
    {
     "data": {
      "text/plain": [
       "True"
      ]
     },
     "execution_count": 36,
     "metadata": {},
     "output_type": "execute_result"
    }
   ],
   "source": [
    "#isidentifier()\tReturns True if the string is an identifier\n",
    "str1.isidentifier()"
   ]
  },
  {
   "cell_type": "code",
   "execution_count": 37,
   "id": "9c6c9acc",
   "metadata": {},
   "outputs": [
    {
     "data": {
      "text/plain": [
       "True"
      ]
     },
     "execution_count": 37,
     "metadata": {},
     "output_type": "execute_result"
    }
   ],
   "source": [
    "#islower()\tReturns True if all characters in the string are lower case\n",
    "str1.islower()"
   ]
  },
  {
   "cell_type": "code",
   "execution_count": 38,
   "id": "66706cb5",
   "metadata": {},
   "outputs": [
    {
     "data": {
      "text/plain": [
       "False"
      ]
     },
     "execution_count": 38,
     "metadata": {},
     "output_type": "execute_result"
    }
   ],
   "source": [
    "#isnumeric()\tReturns True if all characters in the string are numeric\n",
    "str1.isnumeric()"
   ]
  },
  {
   "cell_type": "code",
   "execution_count": 39,
   "id": "9ff4750b",
   "metadata": {},
   "outputs": [
    {
     "data": {
      "text/plain": [
       "True"
      ]
     },
     "execution_count": 39,
     "metadata": {},
     "output_type": "execute_result"
    }
   ],
   "source": [
    "#isprintable()\tReturns True if all characters in the string are printable\n",
    "str1.isprintable()"
   ]
  },
  {
   "cell_type": "code",
   "execution_count": 40,
   "id": "afb5bf6d",
   "metadata": {},
   "outputs": [
    {
     "data": {
      "text/plain": [
       "False"
      ]
     },
     "execution_count": 40,
     "metadata": {},
     "output_type": "execute_result"
    }
   ],
   "source": [
    "#isspace()\tReturns True if all characters in the string are whitespaces\n",
    "str1.isspace()"
   ]
  },
  {
   "cell_type": "code",
   "execution_count": 41,
   "id": "f70857e7",
   "metadata": {},
   "outputs": [
    {
     "data": {
      "text/plain": [
       "False"
      ]
     },
     "execution_count": 41,
     "metadata": {},
     "output_type": "execute_result"
    }
   ],
   "source": [
    "#istitle()\tReturns True if the string follows the rules of a title\n",
    "str1.istitle()"
   ]
  },
  {
   "cell_type": "code",
   "execution_count": 42,
   "id": "37c19e4a",
   "metadata": {},
   "outputs": [
    {
     "data": {
      "text/plain": [
       "False"
      ]
     },
     "execution_count": 42,
     "metadata": {},
     "output_type": "execute_result"
    }
   ],
   "source": [
    "#isupper()\tReturns True if all characters in the string are upper case\n",
    "str1.isupper()"
   ]
  },
  {
   "cell_type": "code",
   "execution_count": 44,
   "id": "573dffcc",
   "metadata": {},
   "outputs": [
    {
     "data": {
      "text/plain": [
       "'mynameissunandi'"
      ]
     },
     "execution_count": 44,
     "metadata": {},
     "output_type": "execute_result"
    }
   ],
   "source": [
    "#join()\tConverts the elements of an iterable into a string\n",
    "list1 = [\"my\",\"name\",\"is\",\"sunandi\"]\n",
    "str2 = \"\"\n",
    "str2.join(list1)"
   ]
  },
  {
   "cell_type": "code",
   "execution_count": 50,
   "id": "5c0f6550",
   "metadata": {},
   "outputs": [
    {
     "data": {
      "text/plain": [
       "'sunandi'"
      ]
     },
     "execution_count": 50,
     "metadata": {},
     "output_type": "execute_result"
    }
   ],
   "source": [
    "#ljust()\tReturns a left justified version of the string\n",
    "str1.ljust(7)"
   ]
  },
  {
   "cell_type": "code",
   "execution_count": 51,
   "id": "f241242b",
   "metadata": {},
   "outputs": [
    {
     "data": {
      "text/plain": [
       "'sunandi'"
      ]
     },
     "execution_count": 51,
     "metadata": {},
     "output_type": "execute_result"
    }
   ],
   "source": [
    "#lower()\tConverts a string into lower case\n",
    "str1.lower()"
   ]
  },
  {
   "cell_type": "code",
   "execution_count": 52,
   "id": "91f6a815",
   "metadata": {},
   "outputs": [
    {
     "data": {
      "text/plain": [
       "'sunandi'"
      ]
     },
     "execution_count": 52,
     "metadata": {},
     "output_type": "execute_result"
    }
   ],
   "source": [
    "#lstrip()\tReturns a left trim version of the string\n",
    "\"     sunandi\".lstrip()"
   ]
  },
  {
   "cell_type": "code",
   "execution_count": 57,
   "id": "b41d5f6e",
   "metadata": {},
   "outputs": [
    {
     "data": {
      "text/plain": [
       "{1: 'Sunandi', 2: 'Anjuri'}"
      ]
     },
     "execution_count": 57,
     "metadata": {},
     "output_type": "execute_result"
    }
   ],
   "source": [
    "#maketrans()\tReturns a translation table to be used in translations\n",
    "str1.maketrans({1 : \"Sunandi\",2:\"Anjuri\"})"
   ]
  },
  {
   "cell_type": "code",
   "execution_count": 73,
   "id": "e95895d2",
   "metadata": {},
   "outputs": [
    {
     "data": {
      "text/plain": [
       "('su', 'n', 'andi')"
      ]
     },
     "execution_count": 73,
     "metadata": {},
     "output_type": "execute_result"
    }
   ],
   "source": [
    "#partition()\tReturns a tuple where the string is parted into three parts\n",
    "str1.partition(\"n\")"
   ]
  },
  {
   "cell_type": "code",
   "execution_count": 62,
   "id": "12fc531a",
   "metadata": {},
   "outputs": [
    {
     "data": {
      "text/plain": [
       "'Sunandi'"
      ]
     },
     "execution_count": 62,
     "metadata": {},
     "output_type": "execute_result"
    }
   ],
   "source": [
    "#replace()\tReturns a string where a specified value is replaced with a specified value\n",
    "str1.replace('s','S')"
   ]
  },
  {
   "cell_type": "code",
   "execution_count": 63,
   "id": "e4e5586b",
   "metadata": {},
   "outputs": [
    {
     "data": {
      "text/plain": [
       "4"
      ]
     },
     "execution_count": 63,
     "metadata": {},
     "output_type": "execute_result"
    }
   ],
   "source": [
    "#rfind()\tSearches the string for a specified value and returns the last position of where it was found\n",
    "str1.rfind('n')"
   ]
  },
  {
   "cell_type": "code",
   "execution_count": 67,
   "id": "dfed1ea8",
   "metadata": {},
   "outputs": [
    {
     "data": {
      "text/plain": [
       "4"
      ]
     },
     "execution_count": 67,
     "metadata": {},
     "output_type": "execute_result"
    }
   ],
   "source": [
    "#rindex()\tSearches the string for a specified value and returns the last position of where it was found\n",
    "str1.rindex(\"n\")"
   ]
  },
  {
   "cell_type": "code",
   "execution_count": 69,
   "id": "0bca6ea1",
   "metadata": {},
   "outputs": [
    {
     "data": {
      "text/plain": [
       "'sunandi'"
      ]
     },
     "execution_count": 69,
     "metadata": {},
     "output_type": "execute_result"
    }
   ],
   "source": [
    "#rjust()\tReturns a right justified version of the string\n",
    "str1.rjust(1)"
   ]
  },
  {
   "cell_type": "code",
   "execution_count": 72,
   "id": "9296dd82",
   "metadata": {},
   "outputs": [
    {
     "data": {
      "text/plain": [
       "('suna', 'n', 'di')"
      ]
     },
     "execution_count": 72,
     "metadata": {},
     "output_type": "execute_result"
    }
   ],
   "source": [
    "#rpartition()\tReturns a tuple where the string is parted into three parts\n",
    "str1.rpartition(\"n\")"
   ]
  },
  {
   "cell_type": "code",
   "execution_count": 77,
   "id": "c597b8dd",
   "metadata": {},
   "outputs": [
    {
     "data": {
      "text/plain": [
       "['su', 'a', 'di']"
      ]
     },
     "execution_count": 77,
     "metadata": {},
     "output_type": "execute_result"
    }
   ],
   "source": [
    "#rsplit()\tSplits the string at the specified separator, and returns a list\n",
    "str1.rsplit(\"n\")"
   ]
  },
  {
   "cell_type": "code",
   "execution_count": 76,
   "id": "6b17c090",
   "metadata": {},
   "outputs": [
    {
     "data": {
      "text/plain": [
       "'sunandi'"
      ]
     },
     "execution_count": 76,
     "metadata": {},
     "output_type": "execute_result"
    }
   ],
   "source": [
    "#rstrip()\tReturns a right trim version of the string\n",
    "\"sunandi   \".rstrip()"
   ]
  },
  {
   "cell_type": "code",
   "execution_count": 79,
   "id": "0ce60385",
   "metadata": {},
   "outputs": [
    {
     "data": {
      "text/plain": [
       "['su', 'a', 'di']"
      ]
     },
     "execution_count": 79,
     "metadata": {},
     "output_type": "execute_result"
    }
   ],
   "source": [
    "#split()\tSplits the string at the specified separator, and returns a list\n",
    "str1.split(\"n\")"
   ]
  },
  {
   "cell_type": "code",
   "execution_count": 80,
   "id": "fa73087a",
   "metadata": {},
   "outputs": [
    {
     "data": {
      "text/plain": [
       "['my ', ' name is ', ' sunandi']"
      ]
     },
     "execution_count": 80,
     "metadata": {},
     "output_type": "execute_result"
    }
   ],
   "source": [
    "#splitlines()\tSplits the string at line breaks and returns a list\n",
    "\"my \\n name is \\n sunandi\".splitlines()"
   ]
  },
  {
   "cell_type": "code",
   "execution_count": 82,
   "id": "01b15712",
   "metadata": {},
   "outputs": [
    {
     "data": {
      "text/plain": [
       "True"
      ]
     },
     "execution_count": 82,
     "metadata": {},
     "output_type": "execute_result"
    }
   ],
   "source": [
    "#startswith()\tReturns true if the string starts with the specified value\n",
    "str1.startswith(\"s\")"
   ]
  },
  {
   "cell_type": "code",
   "execution_count": 87,
   "id": "43dd894c",
   "metadata": {},
   "outputs": [
    {
     "data": {
      "text/plain": [
       "'sunandi'"
      ]
     },
     "execution_count": 87,
     "metadata": {},
     "output_type": "execute_result"
    }
   ],
   "source": [
    "#strip()\tReturns a trimmed version of the string\n",
    "\"   sunandi  \".strip()"
   ]
  },
  {
   "cell_type": "code",
   "execution_count": 88,
   "id": "55ac96f9",
   "metadata": {},
   "outputs": [
    {
     "data": {
      "text/plain": [
       "'SUNANDI'"
      ]
     },
     "execution_count": 88,
     "metadata": {},
     "output_type": "execute_result"
    }
   ],
   "source": [
    "#swapcase()\tSwaps cases, lower case becomes upper case and vice versa\n",
    "str1.swapcase()"
   ]
  },
  {
   "cell_type": "code",
   "execution_count": 89,
   "id": "f721b98d",
   "metadata": {},
   "outputs": [
    {
     "data": {
      "text/plain": [
       "'Sunandi'"
      ]
     },
     "execution_count": 89,
     "metadata": {},
     "output_type": "execute_result"
    }
   ],
   "source": [
    "#title()\tConverts the first character of each word to upper case\n",
    "str1.title()"
   ]
  },
  {
   "cell_type": "code",
   "execution_count": 92,
   "id": "c938dc94",
   "metadata": {},
   "outputs": [
    {
     "data": {
      "text/plain": [
       "'sunandi'"
      ]
     },
     "execution_count": 92,
     "metadata": {},
     "output_type": "execute_result"
    }
   ],
   "source": [
    "#translate()\tReturns a translated string\n",
    "str1.translate(\"d\")"
   ]
  },
  {
   "cell_type": "code",
   "execution_count": 93,
   "id": "76b628a1",
   "metadata": {},
   "outputs": [
    {
     "data": {
      "text/plain": [
       "'SUNANDI'"
      ]
     },
     "execution_count": 93,
     "metadata": {},
     "output_type": "execute_result"
    }
   ],
   "source": [
    "#upper()\tConverts a string into upper case\n",
    "str1.upper()"
   ]
  },
  {
   "cell_type": "code",
   "execution_count": 94,
   "id": "13e750bb",
   "metadata": {},
   "outputs": [
    {
     "data": {
      "text/plain": [
       "'000sunandi'"
      ]
     },
     "execution_count": 94,
     "metadata": {},
     "output_type": "execute_result"
    }
   ],
   "source": [
    "#zfill()\tFills the string with a specified number of 0 values at the beginning\n",
    "str1.zfill(10)"
   ]
  },
  {
   "cell_type": "code",
   "execution_count": null,
   "id": "f5cdeee3",
   "metadata": {},
   "outputs": [],
   "source": []
  }
 ],
 "metadata": {
  "kernelspec": {
   "display_name": "Python 3 (ipykernel)",
   "language": "python",
   "name": "python3"
  },
  "language_info": {
   "codemirror_mode": {
    "name": "ipython",
    "version": 3
   },
   "file_extension": ".py",
   "mimetype": "text/x-python",
   "name": "python",
   "nbconvert_exporter": "python",
   "pygments_lexer": "ipython3",
   "version": "3.9.12"
  }
 },
 "nbformat": 4,
 "nbformat_minor": 5
}
