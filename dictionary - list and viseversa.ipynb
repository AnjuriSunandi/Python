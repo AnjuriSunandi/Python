{
 "cells": [
  {
   "cell_type": "markdown",
   "id": "f49a0311",
   "metadata": {},
   "source": [
    "### 1. Dictionary to List Using .items() Method"
   ]
  },
  {
   "cell_type": "code",
   "execution_count": 1,
   "id": "3885756f",
   "metadata": {},
   "outputs": [],
   "source": [
    "dict1 = {1 : \"sunandi\",2:\"kalyani\",3:\"shanmukha\",4:\"anjuri\",5:\"kaligotla\",6:\"bomma\"}"
   ]
  },
  {
   "cell_type": "code",
   "execution_count": 3,
   "id": "3c1c54a4",
   "metadata": {},
   "outputs": [
    {
     "data": {
      "text/plain": [
       "[(1, 'sunandi'),\n",
       " (2, 'kalyani'),\n",
       " (3, 'shanmukha'),\n",
       " (4, 'anjuri'),\n",
       " (5, 'kaligotla'),\n",
       " (6, 'bomma')]"
      ]
     },
     "execution_count": 3,
     "metadata": {},
     "output_type": "execute_result"
    }
   ],
   "source": [
    "list_dict = list(dict1.items())\n",
    "list_dict"
   ]
  },
  {
   "cell_type": "markdown",
   "id": "c89edcc3",
   "metadata": {},
   "source": [
    "### 2. Using .keys() Method"
   ]
  },
  {
   "cell_type": "code",
   "execution_count": 4,
   "id": "a49e2812",
   "metadata": {},
   "outputs": [
    {
     "data": {
      "text/plain": [
       "[1, 2, 3, 4, 5, 6]"
      ]
     },
     "execution_count": 4,
     "metadata": {},
     "output_type": "execute_result"
    }
   ],
   "source": [
    "list_dict = list(dict1.keys())\n",
    "list_dict"
   ]
  },
  {
   "cell_type": "markdown",
   "id": "0bc3c5e8",
   "metadata": {},
   "source": [
    "### 3. Using .values() Method"
   ]
  },
  {
   "cell_type": "code",
   "execution_count": 5,
   "id": "33892702",
   "metadata": {},
   "outputs": [
    {
     "data": {
      "text/plain": [
       "['sunandi', 'kalyani', 'shanmukha', 'anjuri', 'kaligotla', 'bomma']"
      ]
     },
     "execution_count": 5,
     "metadata": {},
     "output_type": "execute_result"
    }
   ],
   "source": [
    "list_dict = list(dict1.values())\n",
    "list_dict"
   ]
  },
  {
   "cell_type": "markdown",
   "id": "cefcaab6",
   "metadata": {},
   "source": [
    "### 4. Dictionary to List using loop + items() Method"
   ]
  },
  {
   "cell_type": "code",
   "execution_count": 6,
   "id": "a622d851",
   "metadata": {},
   "outputs": [
    {
     "name": "stdout",
     "output_type": "stream",
     "text": [
      "[[1, 'sunandi'], [2, 'kalyani'], [3, 'shanmukha'], [4, 'anjuri'], [5, 'kaligotla'], [6, 'bomma']]\n"
     ]
    }
   ],
   "source": [
    "list_dict = []\n",
    "for key,value in dict1.items():\n",
    "    list_dict.append([key,value])\n",
    "print(list_dict)"
   ]
  },
  {
   "cell_type": "code",
   "execution_count": 7,
   "id": "ad9d2d13",
   "metadata": {},
   "outputs": [
    {
     "data": {
      "text/plain": [
       "[[1, 'sunandi'],\n",
       " [2, 'kalyani'],\n",
       " [3, 'shanmukha'],\n",
       " [4, 'anjuri'],\n",
       " [5, 'kaligotla'],\n",
       " [6, 'bomma']]"
      ]
     },
     "execution_count": 7,
     "metadata": {},
     "output_type": "execute_result"
    }
   ],
   "source": [
    "list_dict = [[key,value] for key,value in dict1.items()]\n",
    "list_dict"
   ]
  },
  {
   "cell_type": "markdown",
   "id": "5c1afa32",
   "metadata": {},
   "source": [
    "### 6. Using Zip Function"
   ]
  },
  {
   "cell_type": "code",
   "execution_count": 9,
   "id": "6c24d985",
   "metadata": {},
   "outputs": [
    {
     "data": {
      "text/plain": [
       "[(1, 'sunandi'),\n",
       " (2, 'kalyani'),\n",
       " (3, 'shanmukha'),\n",
       " (4, 'anjuri'),\n",
       " (5, 'kaligotla'),\n",
       " (6, 'bomma')]"
      ]
     },
     "execution_count": 9,
     "metadata": {},
     "output_type": "execute_result"
    }
   ],
   "source": [
    "list_dict = list(zip(dict1.keys(),dict1.values()))\n",
    "list_dict"
   ]
  },
  {
   "cell_type": "markdown",
   "id": "b5ea0cf9",
   "metadata": {},
   "source": [
    "### 7. Dictionary to List Using Iteration Method"
   ]
  },
  {
   "cell_type": "code",
   "execution_count": 10,
   "id": "858188d3",
   "metadata": {},
   "outputs": [
    {
     "name": "stdout",
     "output_type": "stream",
     "text": [
      "[[1, 'sunandi'], [2, 'kalyani'], [3, 'shanmukha'], [4, 'anjuri'], [5, 'kaligotla'], [6, 'bomma']]\n"
     ]
    }
   ],
   "source": [
    "list_dict = []\n",
    "for i in dict1:\n",
    "    list_dict.append([i,dict1[i]])\n",
    "print(list_dict)"
   ]
  },
  {
   "cell_type": "markdown",
   "id": "1fd3bcca",
   "metadata": {},
   "source": [
    "### 8. Dictionary to List using Collection Method"
   ]
  },
  {
   "cell_type": "code",
   "execution_count": 13,
   "id": "13806150",
   "metadata": {},
   "outputs": [
    {
     "name": "stdout",
     "output_type": "stream",
     "text": [
      "[List(name=1, value='sunandi'), List(name=2, value='kalyani'), List(name=3, value='shanmukha'), List(name=4, value='anjuri'), List(name=5, value='kaligotla'), List(name=6, value='bomma')]\n"
     ]
    }
   ],
   "source": [
    "import collections\n",
    "list_of_tuple = collections.namedtuple('List', 'name value') \n",
    "new_list = list(list_of_tuple(*item) for item in dict1.items()) \n",
    " \n",
    "print(new_list)\n"
   ]
  },
  {
   "cell_type": "markdown",
   "id": "d2651776",
   "metadata": {},
   "source": [
    "### 9. Using Map Function"
   ]
  },
  {
   "cell_type": "code",
   "execution_count": 15,
   "id": "11fa15a9",
   "metadata": {},
   "outputs": [
    {
     "data": {
      "text/plain": [
       "[[1, 'sunandi'],\n",
       " [2, 'kalyani'],\n",
       " [3, 'shanmukha'],\n",
       " [4, 'anjuri'],\n",
       " [5, 'kaligotla'],\n",
       " [6, 'bomma']]"
      ]
     },
     "execution_count": 15,
     "metadata": {},
     "output_type": "execute_result"
    }
   ],
   "source": [
    "list_dict = list(map(list,dict1.items()))\n",
    "list_dict"
   ]
  },
  {
   "cell_type": "markdown",
   "id": "d1f2b999",
   "metadata": {},
   "source": [
    "# Python | Convert a list to dictionary"
   ]
  },
  {
   "cell_type": "markdown",
   "id": "ff01ff4d",
   "metadata": {},
   "source": [
    "### Method #1 : dict comprehension"
   ]
  },
  {
   "cell_type": "code",
   "execution_count": 18,
   "id": "0288cf74",
   "metadata": {},
   "outputs": [
    {
     "name": "stdout",
     "output_type": "stream",
     "text": [
      "{'a': 1, 'b': 2, 'c': 3, 'd': 4}\n"
     ]
    }
   ],
   "source": [
    "list1 = [\"a\",1,\"b\",2,\"c\",3,\"d\",4]\n",
    "dict_1 = {list1[i] : list1[i+1] for i in range(0,len(list1),2)}\n",
    "print(dict_1)"
   ]
  },
  {
   "cell_type": "markdown",
   "id": "a7163501",
   "metadata": {},
   "source": [
    "### Method #2 : Using zip() method"
   ]
  },
  {
   "cell_type": "code",
   "execution_count": 20,
   "id": "c12b1fa6",
   "metadata": {},
   "outputs": [
    {
     "data": {
      "text/plain": [
       "{'a': 1, 'b': 2, 'c': 3, 'd': 4}"
      ]
     },
     "execution_count": 20,
     "metadata": {},
     "output_type": "execute_result"
    }
   ],
   "source": [
    "it = iter(list1)\n",
    "dict_1 = dict(zip(it,it))\n",
    "dict_1"
   ]
  },
  {
   "cell_type": "code",
   "execution_count": null,
   "id": "0cccc9f1",
   "metadata": {},
   "outputs": [],
   "source": []
  }
 ],
 "metadata": {
  "kernelspec": {
   "display_name": "Python 3 (ipykernel)",
   "language": "python",
   "name": "python3"
  },
  "language_info": {
   "codemirror_mode": {
    "name": "ipython",
    "version": 3
   },
   "file_extension": ".py",
   "mimetype": "text/x-python",
   "name": "python",
   "nbconvert_exporter": "python",
   "pygments_lexer": "ipython3",
   "version": "3.9.12"
  }
 },
 "nbformat": 4,
 "nbformat_minor": 5
}
